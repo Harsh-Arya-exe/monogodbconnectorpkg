{
 "cells": [
  {
   "cell_type": "code",
   "execution_count": 17,
   "id": "8d06642a",
   "metadata": {},
   "outputs": [],
   "source": [
    "from typing import List\n",
    "\n",
    "HIPHEN_E_DOT = \"-e .\"\n",
    "def get_requirements(file_path : str) -> List[str]:\n",
    "    requirements = []\n",
    "    with open(file_path) as f:\n",
    "        requirements = f.readlines()\n",
    "        requirements = [req.replace(\"\\n\",\"\") for req in requirements] \n",
    "\n",
    "        if HIPHEN_E_DOT in requirements:\n",
    "            requirements.remove(HIPHEN_E_DOT)\n",
    "    return requirements"
   ]
  },
  {
   "cell_type": "code",
   "execution_count": 18,
   "id": "f95a83f4",
   "metadata": {},
   "outputs": [
    {
     "name": "stdout",
     "output_type": "stream",
     "text": [
      "['pymongo', 'pymongo[srv]', 'dnspython', 'pandas', 'numpy', 'ensure', '', '', '#dev requirements', '', 'pytest', 'tox', 'black', 'flake8', 'mypy']\n"
     ]
    }
   ],
   "source": [
    "print(get_requirements(\"D:\\\\monogodbconnectorpkg\\\\requirements_dev.txt\"))"
   ]
  }
 ],
 "metadata": {
  "kernelspec": {
   "display_name": "menv",
   "language": "python",
   "name": "python3"
  },
  "language_info": {
   "codemirror_mode": {
    "name": "ipython",
    "version": 3
   },
   "file_extension": ".py",
   "mimetype": "text/x-python",
   "name": "python",
   "nbconvert_exporter": "python",
   "pygments_lexer": "ipython3",
   "version": "3.12.5"
  }
 },
 "nbformat": 4,
 "nbformat_minor": 5
}
